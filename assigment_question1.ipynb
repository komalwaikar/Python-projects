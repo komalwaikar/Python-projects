{
 "cells": [
  {
   "cell_type": "markdown",
   "metadata": {},
   "source": [
    "# Write a program for taking one number a input and then using if else concept,assign a grade to the input number from \n",
    "  A,B,C,D,fail\n",
    "  in the formated report"
   ]
  },
  {
   "cell_type": "code",
   "execution_count": 1,
   "metadata": {},
   "outputs": [
    {
     "name": "stdout",
     "output_type": "stream",
     "text": [
      "Enter your namekomal\n",
      "komal\n",
      "Enter ur Roll no21\n",
      "21\n",
      "Enter your marks You had got in English out of 100--->89\n",
      "Enter your marks you got in maths out of 100--->79\n",
      "Enter your marks you got in science out of 100--->56\n",
      "Total :- 224\n",
      "The percentage you got are:- 74.66666666666667\n",
      "|--------|\n",
      "|Grade=B |\n",
      "|--------|\n"
     ]
    }
   ],
   "source": [
    "name=str(input(\"Enter your name\"))\n",
    "print(name)\n",
    "roll_no=int(input(\"Enter ur Roll no\"))\n",
    "print(roll_no)\n",
    "English=int(input(\"Enter your marks You had got in English out of 100--->\"))\n",
    "\n",
    "Maths=int(input(\"Enter your marks you got in maths out of 100--->\"))\n",
    "Science=int(input(\"Enter your marks you got in science out of 100--->\"))\n",
    "\n",
    "sum=English+Maths+Science\n",
    "print(\"Total :-\",sum) \n",
    "\n",
    "percentage=(int(English)+int(Maths)+int(Science))/3\n",
    "print(\"The percentage you got are:-\",percentage)\n",
    "\n",
    "if percentage>=91:\n",
    "    print(\"|---------|\")  \n",
    "    print(\"| Grade=A+|\")\n",
    "    print(\"|---------|\")  \n",
    "    \n",
    "elif percentage>=80 or percentage>=90:\n",
    "    print(\"|--------|\")  \n",
    "    print(\"|Grade=A |\")\n",
    "    print(\"|--------|\")\n",
    "\n",
    "elif percentage>=60 or percentage>=79:\n",
    "    print(\"|--------|\")\n",
    "    print(\"|Grade=B |\")\n",
    "    print(\"|--------|\")\n",
    "    \n",
    "elif percentage>=50 or percentage>=59:\n",
    "    print(\"|--------|\")\n",
    "    print(\"|Grade=C |\")\n",
    "    print(\"|--------|\")\n",
    "    \n",
    "elif percentage>=40 or percentage>=49:\n",
    "    print(\"|--------|\")\n",
    "    print(\"|Grade=D |\")\n",
    "    print(\"|--------|\")\n",
    "        \n",
    "else:\n",
    "    print(\"|--------|\")\n",
    "    print(\"|Fail  \")\n",
    "    print(\"|--------\")\n",
    " \n",
    "    \n",
    "\n"
   ]
  },
  {
   "cell_type": "code",
   "execution_count": null,
   "metadata": {},
   "outputs": [],
   "source": []
  }
 ],
 "metadata": {
  "kernelspec": {
   "display_name": "Python 3",
   "language": "python",
   "name": "python3"
  },
  "language_info": {
   "codemirror_mode": {
    "name": "ipython",
    "version": 3
   },
   "file_extension": ".py",
   "mimetype": "text/x-python",
   "name": "python",
   "nbconvert_exporter": "python",
   "pygments_lexer": "ipython3",
   "version": "3.7.6"
  }
 },
 "nbformat": 4,
 "nbformat_minor": 4
}
