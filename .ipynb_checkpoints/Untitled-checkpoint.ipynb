{
 "cells": [
  {
   "cell_type": "code",
   "execution_count": null,
   "metadata": {},
   "outputs": [],
   "source": [
    "length=12\n",
    "print(\"The length of photo should be\",length)                      \n",
    "dimension=length*length\n",
    "print(\"dimensions should be\",dimension)      \n",
    "\n",
    "n=int(input(\"number of photoes roy having\"))\n",
    "\n",
    "w=int(input(\"enter width\"))\n",
    "h=int(input(\"enter height\"))\n",
    "n1=w*h\n",
    "print(\"The dimension of photo is\",n1)\n",
    "if w<length or h<length:\n",
    "    print(\"Upload Another photo!!!!\")\n",
    "elif w>=length or h>=length:\n",
    "    if n1==dimension:\n",
    "        print(\"photo accepted\")\n",
    "    else:\n",
    "        print(\"Crop it\")\n",
    "    \n",
    "\n",
    "    "
   ]
  },
  {
   "cell_type": "code",
   "execution_count": null,
   "metadata": {},
   "outputs": [],
   "source": []
  }
 ],
 "metadata": {
  "kernelspec": {
   "display_name": "Python 3",
   "language": "python",
   "name": "python3"
  },
  "language_info": {
   "codemirror_mode": {
    "name": "ipython",
    "version": 3
   },
   "file_extension": ".py",
   "mimetype": "text/x-python",
   "name": "python",
   "nbconvert_exporter": "python",
   "pygments_lexer": "ipython3",
   "version": "3.7.6"
  }
 },
 "nbformat": 4,
 "nbformat_minor": 4
}
