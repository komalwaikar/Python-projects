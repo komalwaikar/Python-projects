{
 "cells": [
  {
   "cell_type": "markdown",
   "metadata": {},
   "source": [
    "# Create a class bank account that having two attribute:\n",
    "  1.Owner\n",
    "  \n",
    "  2.balance\n",
    "  \n",
    " Two methods:\n",
    " \n",
    "     1.deposit\n",
    "     2.withdraw"
   ]
  },
  {
   "cell_type": "code",
   "execution_count": 69,
   "metadata": {},
   "outputs": [],
   "source": [
    "class bank_account():\n",
    "    def __init__(self,owner,balance):\n",
    "        self.owner= owner\n",
    "        self.balance= balance\n",
    "        \n",
    "    def deposit(self,amount):\n",
    "        self.balance+=amount\n",
    "        \n",
    "        return amount\n",
    "    \n",
    "    def withdraw(self,amount,limit=500):\n",
    "        if self.balance-amount>0 and amount<= limit:\n",
    "            self.balance-=amount\n",
    "            \n",
    "            \n",
    "            return amount\n",
    "        else:\n",
    "            return 'canot withdraw'\n",
    "        \n",
    "    "
   ]
  },
  {
   "cell_type": "code",
   "execution_count": 71,
   "metadata": {},
   "outputs": [
    {
     "name": "stdout",
     "output_type": "stream",
     "text": [
      "deposit=  400\n",
      "balance=  5900\n",
      "withdraw amount= 500\n",
      "balance= 5400\n"
     ]
    }
   ],
   "source": [
    "a=bank_account('komal',5500)\n",
    "print(\"deposit= \",a.deposit(400))\n",
    "print(\"balance= \",a.balance)\n",
    "print(\"withdraw amount=\",a.withdraw(500))\n",
    "a.withdraw(600)\n",
    "print(\"balance=\",a.balance)"
   ]
  },
  {
   "cell_type": "code",
   "execution_count": null,
   "metadata": {},
   "outputs": [],
   "source": []
  },
  {
   "cell_type": "code",
   "execution_count": null,
   "metadata": {},
   "outputs": [],
   "source": []
  }
 ],
 "metadata": {
  "kernelspec": {
   "display_name": "Python 3",
   "language": "python",
   "name": "python3"
  },
  "language_info": {
   "codemirror_mode": {
    "name": "ipython",
    "version": 3
   },
   "file_extension": ".py",
   "mimetype": "text/x-python",
   "name": "python",
   "nbconvert_exporter": "python",
   "pygments_lexer": "ipython3",
   "version": "3.7.6"
  }
 },
 "nbformat": 4,
 "nbformat_minor": 4
}
