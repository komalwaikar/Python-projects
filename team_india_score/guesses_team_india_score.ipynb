{
 "cells": [
  {
   "cell_type": "markdown",
   "metadata": {},
   "source": [
    "# Guessing  Team India score in 20-20 Cricket -\n",
    " "
   ]
  },
  {
   "cell_type": "markdown",
   "metadata": {},
   "source": [
    "# WAP gives you random score of Team india in a cricket match and a player has to guess the score given by computer in between 1-250 the rules are:             "
   ]
  },
  {
   "cell_type": "markdown",
   "metadata": {},
   "source": [
    "# 1. if player guess is less then 1 or greater the 250 then it sayes Reduce ur               expectation                                                                                                                  2. Other then the player's Input score game:                                                                      "
   ]
  },
  {
   "cell_type": "markdown",
   "metadata": {},
   "source": [
    "# a. within 10 number return\"You are true INDIAN Fan\"                                                        b. further 10 away from the number \"you don\"t that much!!!!\" "
   ]
  },
  {
   "cell_type": "code",
   "execution_count": 9,
   "metadata": {},
   "outputs": [
    {
     "name": "stdout",
     "output_type": "stream",
     "text": [
      "Enter players scoure150\n",
      " 200\n",
      " 220\n",
      "!!!!!!you dont't watch match!!!!!!\n",
      "random value is 210\n"
     ]
    }
   ],
   "source": [
    "import random\n",
    "v=random.randint(1,250)\n",
    " \n",
    "player=int(input(\"Enter players scoure\"))\n",
    "if player<1 or player>250:\n",
    "    print(\"redude your expectations for 20-20\")\n",
    "\n",
    "print(\"\",v-10)\n",
    "print(\"\",v+10)\n",
    "if v-10==player or v+10==player:    \n",
    "    print(\"******your true INDIAN Fan******\")\n",
    "    \n",
    "else:\n",
    "    print(\"!!!!!!you dont't watch match!!!!!!\")\n",
    "\n",
    "print(\"random value is\",v)    "
   ]
  },
  {
   "cell_type": "code",
   "execution_count": null,
   "metadata": {},
   "outputs": [],
   "source": []
  }
 ],
 "metadata": {
  "kernelspec": {
   "display_name": "Python 3",
   "language": "python",
   "name": "python3"
  },
  "language_info": {
   "codemirror_mode": {
    "name": "ipython",
    "version": 3
   },
   "file_extension": ".py",
   "mimetype": "text/x-python",
   "name": "python",
   "nbconvert_exporter": "python",
   "pygments_lexer": "ipython3",
   "version": "3.7.6"
  }
 },
 "nbformat": 4,
 "nbformat_minor": 4
}
