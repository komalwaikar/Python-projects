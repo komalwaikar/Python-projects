{
 "cells": [
  {
   "cell_type": "code",
   "execution_count": 4,
   "metadata": {},
   "outputs": [
    {
     "name": "stdout",
     "output_type": "stream",
     "text": [
      "Aniket is in maze\n",
      "Initially at (0, 0)\n",
      "He had got command to come out of Maze\n",
      "L FOR LEFT\n",
      "R FOR RIGHT\n",
      "T FOR TOP\n",
      "B FOR BOTTOM\n",
      "Enter the command to came outT\n",
      "Now position is became (0, 1)\n",
      "Enter the command to came outL\n",
      "Now the position is became (-1, 1)\n",
      "Enter the command to came outR\n",
      "Now the position is became (0, 1)\n",
      "Enter the command to came outD\n",
      "Now positon is became (0, 0)\n",
      "Enter the command to came outT\n",
      "Now position is became (0, 1)\n",
      "Now he is out of Maze having position (0, 1)\n"
     ]
    }
   ],
   "source": [
    "print(\"Aniket is in maze\")\n",
    "x=0\n",
    "y=0\n",
    "initial=(x,y)\n",
    "print(\"Initially at\",initial)\n",
    "\n",
    "print(\"He had got command to come out of Maze\")\n",
    "print(\"L FOR LEFT\")\n",
    "print(\"R FOR RIGHT\")\n",
    "print(\"T FOR TOP\")\n",
    "print(\"B FOR BOTTOM\")\n",
    "for i in range(5):\n",
    "    res=input(\"Enter the command to came out\")\n",
    "\n",
    "    if res=='L':\n",
    "        x=x-1\n",
    "        print(\"Now the position is became\",(x,y))\n",
    "    elif res=='R':\n",
    "        x=x+1\n",
    "        print(\"Now the position is became\",(x,y))\n",
    "    elif res=='T':\n",
    "        y=y+1\n",
    "        print(\"Now position is became\",(x,y))\n",
    "    elif res=='D':\n",
    "        y=y-1\n",
    "        print(\"Now positon is became\",(x,y))\n",
    "    else:\n",
    "        print(\"Enter correct choice\")\n",
    "print(\"Now he is out of Maze having position\",(x,y))        \n",
    "        \n"
   ]
  },
  {
   "cell_type": "code",
   "execution_count": null,
   "metadata": {},
   "outputs": [],
   "source": []
  }
 ],
 "metadata": {
  "kernelspec": {
   "display_name": "Python 3",
   "language": "python",
   "name": "python3"
  },
  "language_info": {
   "codemirror_mode": {
    "name": "ipython",
    "version": 3
   },
   "file_extension": ".py",
   "mimetype": "text/x-python",
   "name": "python",
   "nbconvert_exporter": "python",
   "pygments_lexer": "ipython3",
   "version": "3.7.6"
  }
 },
 "nbformat": 4,
 "nbformat_minor": 4
}
