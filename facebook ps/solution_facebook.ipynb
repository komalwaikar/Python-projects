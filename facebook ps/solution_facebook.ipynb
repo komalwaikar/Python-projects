{
 "cells": [
  {
   "cell_type": "markdown",
   "metadata": {},
   "source": []
  },
  {
   "cell_type": "code",
   "execution_count": 5,
   "metadata": {},
   "outputs": [
    {
     "name": "stdout",
     "output_type": "stream",
     "text": [
      "The length of photo should be 12\n",
      "dimensions should be 144\n",
      "number of photoes roy having23\n",
      "Enter the dimensions of photos\n",
      "enter width333\n",
      "enter height333\n",
      "Crop it\n"
     ]
    }
   ],
   "source": [
    "length=12\n",
    "print(\"The length of photo should be\",length)                      \n",
    "dimension=length*length\n",
    "print(\"dimensions should be\",dimension)      \n",
    "\n",
    "n=int(input(\"number of photoes roy having\"))\n",
    "print(\"Enter the dimensions of photos\")\n",
    "w=int(input(\"enter width\"))\n",
    "h=int(input(\"enter height\"))\n",
    "n1=w*h\n",
    "\n",
    "if w<length or h<length:\n",
    "    print(\"Upload Another photo!!!!\")\n",
    "elif w>=length or h>=length:\n",
    "    if n1==dimension:\n",
    "        print(\"photo accepted\")\n",
    "    else:\n",
    "        print(\"Crop it\")\n",
    "    \n",
    "\n",
    "    "
   ]
  }
 ],
 "metadata": {
  "kernelspec": {
   "display_name": "Python 3",
   "language": "python",
   "name": "python3"
  },
  "language_info": {
   "codemirror_mode": {
    "name": "ipython",
    "version": 3
   },
   "file_extension": ".py",
   "mimetype": "text/x-python",
   "name": "python",
   "nbconvert_exporter": "python",
   "pygments_lexer": "ipython3",
   "version": "3.7.6"
  }
 },
 "nbformat": 4,
 "nbformat_minor": 4
}
